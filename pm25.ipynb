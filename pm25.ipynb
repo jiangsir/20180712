{
 "cells": [
  {
   "cell_type": "code",
   "execution_count": 1,
   "metadata": {},
   "outputs": [
    {
     "name": "stderr",
     "output_type": "stream",
     "text": [
      "/Users/jiangsir/anaconda3/lib/python3.6/site-packages/urllib3/connectionpool.py:858: InsecureRequestWarning: Unverified HTTPS request is being made. Adding certificate verification is strongly advised. See: https://urllib3.readthedocs.io/en/latest/advanced-usage.html#ssl-warnings\n",
      "  InsecureRequestWarning)\n"
     ]
    },
    {
     "name": "stdout",
     "output_type": "stream",
     "text": [
      "高雄市 復興 : PM2.5=1\n"
     ]
    }
   ],
   "source": [
    "import requests,json\n",
    "opendata = 'https://opendata.epa.gov.tw/ws/Data/ATM00625/?$format=json'\n",
    "county = '高雄市'\n",
    "site = '復興'\n",
    "res = requests.get(opendata, verify=False)\n",
    "data = json.loads(res.text)\n",
    "for kh in data:\n",
    "    if kh['county'] == county and kh['Site'] == site:\n",
    "        print(county, site, \": PM2.5=\"+kh['PM25'])\n"
   ]
  }
 ],
 "metadata": {
  "kernelspec": {
   "display_name": "Python 3",
   "language": "python",
   "name": "python3"
  },
  "language_info": {
   "codemirror_mode": {
    "name": "ipython",
    "version": 3
   },
   "file_extension": ".py",
   "mimetype": "text/x-python",
   "name": "python",
   "nbconvert_exporter": "python",
   "pygments_lexer": "ipython3",
   "version": "3.6.4"
  }
 },
 "nbformat": 4,
 "nbformat_minor": 2
}
