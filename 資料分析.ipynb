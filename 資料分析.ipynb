{
 "cells": [
  {
   "cell_type": "markdown",
   "metadata": {
    "slideshow": {
     "slide_type": "slide"
    }
   },
   "source": [
    "# 初級的資料分析\n"
   ]
  },
  {
   "cell_type": "code",
   "execution_count": 255,
   "metadata": {
    "collapsed": true,
    "slideshow": {
     "slide_type": "subslide"
    }
   },
   "outputs": [],
   "source": [
    "%matplotlib inline\n",
    "import numpy as np\n",
    "import matplotlib.pyplot as plt\n",
    "import pandas as pd\n"
   ]
  },
  {
   "cell_type": "code",
   "execution_count": 256,
   "metadata": {
    "slideshow": {
     "slide_type": "subslide"
    }
   },
   "outputs": [
    {
     "data": {
      "text/plain": [
       "91"
      ]
     },
     "execution_count": 256,
     "metadata": {},
     "output_type": "execute_result"
    }
   ],
   "source": [
    "## 使用 numpy 的 random\n",
    "import numpy as np\n",
    "\n",
    "np.random.randint(1, 100) # 從 1 ~ 99 取出亂數。\n"
   ]
  },
  {
   "cell_type": "markdown",
   "metadata": {
    "slideshow": {
     "slide_type": "slide"
    }
   },
   "source": [
    "## 神奇的 nparray\n",
    "\n",
    "能不用迴圈就不要用迴圈吧！\n"
   ]
  },
  {
   "cell_type": "code",
   "execution_count": 257,
   "metadata": {
    "slideshow": {
     "slide_type": "subslide"
    }
   },
   "outputs": [
    {
     "name": "stdout",
     "output_type": "stream",
     "text": [
      "<class 'list'>\n",
      "[12, 24, 75, 33]\n",
      "<class 'numpy.ndarray'>\n",
      "[12 24 75 33]\n",
      "[ 36  72 225  99]\n"
     ]
    }
   ],
   "source": [
    "import numpy as np\n",
    "\n",
    "# 這是一個普通 list\n",
    "p = [12, 24, 75, 33]\n",
    "print(type(p))\n",
    "print(p)\n",
    "\n",
    "p = np.array(p)\n",
    "print(type(p))\n",
    "print(p)\n",
    "\n",
    "# 神奇 array 直接幫你吧 array 內所有值都 * 3\n",
    "print(p * 3)\n"
   ]
  },
  {
   "cell_type": "code",
   "execution_count": 258,
   "metadata": {
    "slideshow": {
     "slide_type": "subslide"
    }
   },
   "outputs": [
    {
     "name": "stdout",
     "output_type": "stream",
     "text": [
      "兩個 array 做內積 ＝  82.6\n",
      "兩個 array 相乘的和 82.6\n",
      "5 個學生的學期成績 ＝ [ 82.6  60.5  69.5  76.4  37.3]\n"
     ]
    }
   ],
   "source": [
    "scores = np.array([68, 80, 90])\n",
    "權重 = np.array([0.2, 0.3, 0.5])\n",
    "print('兩個 array 做內積 ＝ ', np.dot(scores, 權重))\n",
    "\n",
    "# 相當於\n",
    "\n",
    "print('兩個 array 相乘的和', (scores * 權重).sum())\n",
    "\n",
    "\n",
    "## 二維資料比較接近現實。\n",
    "# 假設有 5 個學生的成績\n",
    "scores = np.array([[68, 80, 90], [50, 60, 65], [56, 86, 65], [62, 85, 77], [23, 34, 45]])\n",
    "權重 = np.array([0.2, 0.3, 0.5])\n",
    "\n",
    "# 原理就是 每一個 元素 都做 dot 運算。\n",
    "print('5 個學生的學期成績 ＝', np.dot(scores, 權重))"
   ]
  },
  {
   "cell_type": "code",
   "execution_count": 259,
   "metadata": {},
   "outputs": [
    {
     "data": {
      "text/plain": [
       "array([-1.72383552,  1.26532753,  0.46565577,  0.51518746,  2.21221787,\n",
       "       -0.94519248, -0.53802582, -2.02651104, -1.00993659, -0.42316108,\n",
       "        0.4978473 , -2.47111152, -0.38343248,  0.15619494, -0.61444656,\n",
       "        1.45025837,  0.31559531,  0.20912535, -0.85787299,  0.39673869,\n",
       "       -0.49117527, -0.19671172,  1.57489487, -1.30999757, -0.31909254,\n",
       "        2.9534393 , -0.63825284, -0.71126981, -1.04585504, -0.66358875,\n",
       "       -0.01133764, -1.16937693, -0.48788604,  1.33742242, -1.08350072,\n",
       "       -1.08928339,  0.3218453 ,  1.67323852, -0.4403035 , -1.19982173,\n",
       "       -0.42772632,  2.45811711, -0.34376301,  0.82046323,  1.35439348,\n",
       "        0.27989194, -0.02765037,  0.7427424 , -0.74780624,  0.32875236,\n",
       "       -1.38759773, -0.47769762, -1.64681142,  0.32750875, -0.15667218,\n",
       "        0.48052293, -1.79828209, -0.09671991,  1.08999668, -1.01316437,\n",
       "       -1.13219119,  0.09801398,  0.66669485, -0.69263303,  0.29767745,\n",
       "       -0.46708299,  0.40484423,  0.74765576, -0.83640125,  0.43687638,\n",
       "        0.14056723,  0.44174663, -1.54170346,  0.3859746 ,  0.55357464,\n",
       "       -1.38946604, -0.05150723, -1.21886367,  0.16498831,  0.17926614,\n",
       "        0.64001267,  0.65678624, -0.93735507, -0.08732835, -0.01095576,\n",
       "       -1.06955246,  1.10783412, -0.57541907,  0.74020822,  0.26702554,\n",
       "       -0.65777529,  1.22492041,  0.27896136, -0.08087582,  0.12182074,\n",
       "        1.70759358, -1.12153966,  0.92769138, -0.05476636, -1.78362061])"
      ]
     },
     "execution_count": 259,
     "metadata": {},
     "output_type": "execute_result"
    }
   ],
   "source": [
    "# numpy 套件的 random 功能可以取得 常態分佈的亂數。\n",
    "# 也就是 平均值 0 標準差 1 的資料集。\n",
    "np.random.randn(100)"
   ]
  },
  {
   "cell_type": "code",
   "execution_count": 260,
   "metadata": {},
   "outputs": [
    {
     "data": {
      "text/plain": [
       "array([ 54.27608585,  63.59731694,  83.48535524,  65.79764364,\n",
       "        62.86863575,  69.9362851 ,  68.87962236,  62.27663921,\n",
       "        58.96002173,  51.68749938,  86.37638177,  80.01044102,\n",
       "        68.9016681 ,  65.15485905,  74.26323743,  52.99690289,\n",
       "        69.01588862,  77.75682913,  62.95032332,  54.86477751,\n",
       "        81.66480575,  83.43097131,  68.95353753,  69.90301424,\n",
       "        79.86362633,  63.32124267,  70.04253235,  71.32084466,\n",
       "        64.6339331 ,  81.14516038,  66.62479406,  85.04187741,\n",
       "        74.8948767 ,  76.37065509,  76.86408817,  55.29184477,\n",
       "        65.38051709,  61.1335607 ,  57.30668111,  53.8367056 ,\n",
       "        88.25186681,  77.89783584,  67.30688108,  78.6021776 ,\n",
       "        71.62831711,  66.70942327,  76.51355214,  70.72703246,\n",
       "        76.68555944,  62.91909109,  73.29059754,  79.35097233,\n",
       "        74.93495093,  52.21177364,  89.32598702,  64.55630692,\n",
       "        73.15883413,  72.30404298,  75.32331282,  76.24802353,\n",
       "        74.09473204,  83.02263654,  86.87143478,  64.14645853,\n",
       "        62.17380567,  50.2263955 ,  66.34844517,  74.60925961,\n",
       "        75.59338377,  76.80287678,  67.92007575,  56.33821649,\n",
       "        64.6905856 ,  88.96145102,  43.47536673,  62.26791288,\n",
       "        73.9560893 ,  58.75382953,  79.24907783,  61.70030592,\n",
       "        85.91239146,  78.7685114 ,  79.02157324,  69.91423974,\n",
       "        67.69942398,  82.62450403,  60.23597961,  80.32665833,\n",
       "        69.75210689,  70.22474296,  78.97004394,  74.53205583,\n",
       "        77.97916342,  88.64699363,  71.06351208,  62.31883473,\n",
       "        70.4258658 ,  66.36217241,  70.88572635,  81.92222742])"
      ]
     },
     "execution_count": 260,
     "metadata": {},
     "output_type": "execute_result"
    }
   ],
   "source": [
    "# 調整範圍\n",
    "scores = np.random.randn(100) * 10 + 70\n",
    "scores"
   ]
  },
  {
   "cell_type": "markdown",
   "metadata": {
    "slideshow": {
     "slide_type": "subslide"
    }
   },
   "source": [
    "## 再來一個神奇的變身\n",
    "\n",
    "直接把 1 * 100 的陣列變成 10 * 10 的二維陣列。\n"
   ]
  },
  {
   "cell_type": "code",
   "execution_count": 261,
   "metadata": {},
   "outputs": [
    {
     "name": "stdout",
     "output_type": "stream",
     "text": [
      "(100,)\n"
     ]
    },
    {
     "data": {
      "text/plain": [
       "array([[ 54.27608585,  63.59731694,  83.48535524,  65.79764364,\n",
       "         62.86863575,  69.9362851 ,  68.87962236,  62.27663921,\n",
       "         58.96002173,  51.68749938],\n",
       "       [ 86.37638177,  80.01044102,  68.9016681 ,  65.15485905,\n",
       "         74.26323743,  52.99690289,  69.01588862,  77.75682913,\n",
       "         62.95032332,  54.86477751],\n",
       "       [ 81.66480575,  83.43097131,  68.95353753,  69.90301424,\n",
       "         79.86362633,  63.32124267,  70.04253235,  71.32084466,\n",
       "         64.6339331 ,  81.14516038],\n",
       "       [ 66.62479406,  85.04187741,  74.8948767 ,  76.37065509,\n",
       "         76.86408817,  55.29184477,  65.38051709,  61.1335607 ,\n",
       "         57.30668111,  53.8367056 ],\n",
       "       [ 88.25186681,  77.89783584,  67.30688108,  78.6021776 ,\n",
       "         71.62831711,  66.70942327,  76.51355214,  70.72703246,\n",
       "         76.68555944,  62.91909109],\n",
       "       [ 73.29059754,  79.35097233,  74.93495093,  52.21177364,\n",
       "         89.32598702,  64.55630692,  73.15883413,  72.30404298,\n",
       "         75.32331282,  76.24802353],\n",
       "       [ 74.09473204,  83.02263654,  86.87143478,  64.14645853,\n",
       "         62.17380567,  50.2263955 ,  66.34844517,  74.60925961,\n",
       "         75.59338377,  76.80287678],\n",
       "       [ 67.92007575,  56.33821649,  64.6905856 ,  88.96145102,\n",
       "         43.47536673,  62.26791288,  73.9560893 ,  58.75382953,\n",
       "         79.24907783,  61.70030592],\n",
       "       [ 85.91239146,  78.7685114 ,  79.02157324,  69.91423974,\n",
       "         67.69942398,  82.62450403,  60.23597961,  80.32665833,\n",
       "         69.75210689,  70.22474296],\n",
       "       [ 78.97004394,  74.53205583,  77.97916342,  88.64699363,\n",
       "         71.06351208,  62.31883473,  70.4258658 ,  66.36217241,\n",
       "         70.88572635,  81.92222742]])"
      ]
     },
     "execution_count": 261,
     "metadata": {},
     "output_type": "execute_result"
    }
   ],
   "source": [
    "print(scores.shape)\n",
    "\n",
    "scores.shape = (10, 10)\n",
    "scores"
   ]
  },
  {
   "cell_type": "code",
   "execution_count": 263,
   "metadata": {
    "slideshow": {
     "slide_type": "subslide"
    }
   },
   "outputs": [
    {
     "data": {
      "text/plain": [
       "['.DS_Store', '原始資料表.xlsx', '原始資料表_new.xlsx', '清理資料.xlsx', '自己生資料.xlsx']"
      ]
     },
     "execution_count": 263,
     "metadata": {},
     "output_type": "execute_result"
    }
   ],
   "source": [
    "import pandas as pd\n",
    "import os\n",
    "\n",
    "basepath = 'datas/'\n",
    "df = pd.DataFrame()\n",
    "\n",
    "df['name'] = pd.Series(names)\n",
    "df['exam1'] = pd.Series(np.random.randint(100, size=50))\n",
    "df['exam2'] = pd.Series(np.random.randint(100, size=50))\n",
    "df['exam3'] = pd.Series(np.random.randint(100, size=50))\n",
    "\n",
    "writer = pd.ExcelWriter(basepath+'自己生資料.xlsx')\n",
    "df.to_excel(writer,'Sheet1')\n",
    "os.listdir(basepath)\n"
   ]
  },
  {
   "cell_type": "code",
   "execution_count": 264,
   "metadata": {
    "slideshow": {
     "slide_type": "subslide"
    }
   },
   "outputs": [
    {
     "data": {
      "text/html": [
       "<div>\n",
       "<table border=\"1\" class=\"dataframe\">\n",
       "  <thead>\n",
       "    <tr style=\"text-align: right;\">\n",
       "      <th></th>\n",
       "      <th>name</th>\n",
       "      <th>exam1</th>\n",
       "      <th>exam2</th>\n",
       "      <th>exam3</th>\n",
       "    </tr>\n",
       "  </thead>\n",
       "  <tbody>\n",
       "    <tr>\n",
       "      <th>0</th>\n",
       "      <td>王之婷</td>\n",
       "      <td>82</td>\n",
       "      <td>59</td>\n",
       "      <td>99</td>\n",
       "    </tr>\n",
       "    <tr>\n",
       "      <th>1</th>\n",
       "      <td>黃文賢</td>\n",
       "      <td>35</td>\n",
       "      <td>18</td>\n",
       "      <td>21</td>\n",
       "    </tr>\n",
       "    <tr>\n",
       "      <th>2</th>\n",
       "      <td>林俊穎</td>\n",
       "      <td>7</td>\n",
       "      <td>23</td>\n",
       "      <td>74</td>\n",
       "    </tr>\n",
       "    <tr>\n",
       "      <th>3</th>\n",
       "      <td>馮筱婷</td>\n",
       "      <td>96</td>\n",
       "      <td>93</td>\n",
       "      <td>87</td>\n",
       "    </tr>\n",
       "    <tr>\n",
       "      <th>4</th>\n",
       "      <td>吳慧娟</td>\n",
       "      <td>15</td>\n",
       "      <td>66</td>\n",
       "      <td>15</td>\n",
       "    </tr>\n",
       "  </tbody>\n",
       "</table>\n",
       "</div>"
      ],
      "text/plain": [
       "  name  exam1  exam2  exam3\n",
       "0  王之婷     82     59     99\n",
       "1  黃文賢     35     18     21\n",
       "2  林俊穎      7     23     74\n",
       "3  馮筱婷     96     93     87\n",
       "4  吳慧娟     15     66     15"
      ]
     },
     "execution_count": 264,
     "metadata": {},
     "output_type": "execute_result"
    }
   ],
   "source": [
    "# 讀取 excel 檔案。\n",
    "\n",
    "df = pd.read_excel(basepath + '自己生資料.xlsx')\n",
    "df.head()"
   ]
  },
  {
   "cell_type": "code",
   "execution_count": 265,
   "metadata": {
    "slideshow": {
     "slide_type": "subslide"
    }
   },
   "outputs": [
    {
     "name": "stdout",
     "output_type": "stream",
     "text": [
      "exam1 的平均： 45.76\n",
      "exam2 的平均： 45.54\n",
      "exam3 的平均： 49.34\n",
      "exam1 的標準差： 30.34129670456235\n",
      "exam2 的標準差： 27.913284087893143\n",
      "exam3 的標準差： 30.739597543605825\n"
     ]
    }
   ],
   "source": [
    "# 把資料拿出來作一些處理\n",
    "\n",
    "print('exam1 的平均：',df.exam1.mean())\n",
    "print('exam2 的平均：',df.exam2.mean())\n",
    "print('exam3 的平均：',df.exam3.mean())\n",
    "print('exam1 的標準差：',df.exam1.std())\n",
    "print('exam2 的標準差：',df.exam2.std())\n",
    "print('exam3 的標準差：',df.exam3.std())\n",
    "\n"
   ]
  },
  {
   "cell_type": "code",
   "execution_count": 266,
   "metadata": {
    "slideshow": {
     "slide_type": "subslide"
    }
   },
   "outputs": [
    {
     "data": {
      "text/html": [
       "<div>\n",
       "<table border=\"1\" class=\"dataframe\">\n",
       "  <thead>\n",
       "    <tr style=\"text-align: right;\">\n",
       "      <th></th>\n",
       "      <th>exam1</th>\n",
       "      <th>exam2</th>\n",
       "      <th>exam3</th>\n",
       "    </tr>\n",
       "  </thead>\n",
       "  <tbody>\n",
       "    <tr>\n",
       "      <th>count</th>\n",
       "      <td>50.000000</td>\n",
       "      <td>50.000000</td>\n",
       "      <td>50.000000</td>\n",
       "    </tr>\n",
       "    <tr>\n",
       "      <th>mean</th>\n",
       "      <td>45.760000</td>\n",
       "      <td>45.540000</td>\n",
       "      <td>49.340000</td>\n",
       "    </tr>\n",
       "    <tr>\n",
       "      <th>std</th>\n",
       "      <td>30.341297</td>\n",
       "      <td>27.913284</td>\n",
       "      <td>30.739598</td>\n",
       "    </tr>\n",
       "    <tr>\n",
       "      <th>min</th>\n",
       "      <td>1.000000</td>\n",
       "      <td>1.000000</td>\n",
       "      <td>3.000000</td>\n",
       "    </tr>\n",
       "    <tr>\n",
       "      <th>25%</th>\n",
       "      <td>20.250000</td>\n",
       "      <td>27.250000</td>\n",
       "      <td>17.250000</td>\n",
       "    </tr>\n",
       "    <tr>\n",
       "      <th>50%</th>\n",
       "      <td>36.000000</td>\n",
       "      <td>42.000000</td>\n",
       "      <td>48.500000</td>\n",
       "    </tr>\n",
       "    <tr>\n",
       "      <th>75%</th>\n",
       "      <td>72.750000</td>\n",
       "      <td>63.500000</td>\n",
       "      <td>77.750000</td>\n",
       "    </tr>\n",
       "    <tr>\n",
       "      <th>max</th>\n",
       "      <td>99.000000</td>\n",
       "      <td>97.000000</td>\n",
       "      <td>99.000000</td>\n",
       "    </tr>\n",
       "  </tbody>\n",
       "</table>\n",
       "</div>"
      ],
      "text/plain": [
       "           exam1      exam2      exam3\n",
       "count  50.000000  50.000000  50.000000\n",
       "mean   45.760000  45.540000  49.340000\n",
       "std    30.341297  27.913284  30.739598\n",
       "min     1.000000   1.000000   3.000000\n",
       "25%    20.250000  27.250000  17.250000\n",
       "50%    36.000000  42.000000  48.500000\n",
       "75%    72.750000  63.500000  77.750000\n",
       "max    99.000000  97.000000  99.000000"
      ]
     },
     "execution_count": 266,
     "metadata": {},
     "output_type": "execute_result"
    }
   ],
   "source": [
    "df.describe()"
   ]
  },
  {
   "cell_type": "code",
   "execution_count": 267,
   "metadata": {
    "slideshow": {
     "slide_type": "subslide"
    }
   },
   "outputs": [
    {
     "data": {
      "text/html": [
       "<div>\n",
       "<table border=\"1\" class=\"dataframe\">\n",
       "  <thead>\n",
       "    <tr style=\"text-align: right;\">\n",
       "      <th></th>\n",
       "      <th>exam1</th>\n",
       "      <th>exam2</th>\n",
       "      <th>exam3</th>\n",
       "    </tr>\n",
       "  </thead>\n",
       "  <tbody>\n",
       "    <tr>\n",
       "      <th>exam1</th>\n",
       "      <td>1.000000</td>\n",
       "      <td>0.282522</td>\n",
       "      <td>0.161660</td>\n",
       "    </tr>\n",
       "    <tr>\n",
       "      <th>exam2</th>\n",
       "      <td>0.282522</td>\n",
       "      <td>1.000000</td>\n",
       "      <td>0.032081</td>\n",
       "    </tr>\n",
       "    <tr>\n",
       "      <th>exam3</th>\n",
       "      <td>0.161660</td>\n",
       "      <td>0.032081</td>\n",
       "      <td>1.000000</td>\n",
       "    </tr>\n",
       "  </tbody>\n",
       "</table>\n",
       "</div>"
      ],
      "text/plain": [
       "          exam1     exam2     exam3\n",
       "exam1  1.000000  0.282522  0.161660\n",
       "exam2  0.282522  1.000000  0.032081\n",
       "exam3  0.161660  0.032081  1.000000"
      ]
     },
     "execution_count": 267,
     "metadata": {},
     "output_type": "execute_result"
    }
   ],
   "source": [
    "# 相關係數\n",
    "df.corr()"
   ]
  },
  {
   "cell_type": "code",
   "execution_count": 268,
   "metadata": {
    "slideshow": {
     "slide_type": "subslide"
    }
   },
   "outputs": [
    {
     "data": {
      "text/plain": [
       "0.2825221073727861"
      ]
     },
     "execution_count": 268,
     "metadata": {},
     "output_type": "execute_result"
    }
   ],
   "source": [
    "# exam1 跟 exam2 的相關係數\n",
    "df.exam1.corr(df.exam2)"
   ]
  },
  {
   "cell_type": "code",
   "execution_count": 269,
   "metadata": {
    "slideshow": {
     "slide_type": "subslide"
    }
   },
   "outputs": [
    {
     "data": {
      "text/html": [
       "<div>\n",
       "<table border=\"1\" class=\"dataframe\">\n",
       "  <thead>\n",
       "    <tr style=\"text-align: right;\">\n",
       "      <th></th>\n",
       "      <th>name</th>\n",
       "      <th>exam1</th>\n",
       "      <th>exam2</th>\n",
       "      <th>exam3</th>\n",
       "      <th>總分</th>\n",
       "    </tr>\n",
       "  </thead>\n",
       "  <tbody>\n",
       "    <tr>\n",
       "      <th>0</th>\n",
       "      <td>王之婷</td>\n",
       "      <td>82</td>\n",
       "      <td>59</td>\n",
       "      <td>99</td>\n",
       "      <td>240</td>\n",
       "    </tr>\n",
       "    <tr>\n",
       "      <th>1</th>\n",
       "      <td>黃文賢</td>\n",
       "      <td>35</td>\n",
       "      <td>18</td>\n",
       "      <td>21</td>\n",
       "      <td>74</td>\n",
       "    </tr>\n",
       "    <tr>\n",
       "      <th>2</th>\n",
       "      <td>林俊穎</td>\n",
       "      <td>7</td>\n",
       "      <td>23</td>\n",
       "      <td>74</td>\n",
       "      <td>104</td>\n",
       "    </tr>\n",
       "    <tr>\n",
       "      <th>3</th>\n",
       "      <td>馮筱婷</td>\n",
       "      <td>96</td>\n",
       "      <td>93</td>\n",
       "      <td>87</td>\n",
       "      <td>276</td>\n",
       "    </tr>\n",
       "    <tr>\n",
       "      <th>4</th>\n",
       "      <td>吳慧娟</td>\n",
       "      <td>15</td>\n",
       "      <td>66</td>\n",
       "      <td>15</td>\n",
       "      <td>96</td>\n",
       "    </tr>\n",
       "  </tbody>\n",
       "</table>\n",
       "</div>"
      ],
      "text/plain": [
       "  name  exam1  exam2  exam3   總分\n",
       "0  王之婷     82     59     99  240\n",
       "1  黃文賢     35     18     21   74\n",
       "2  林俊穎      7     23     74  104\n",
       "3  馮筱婷     96     93     87  276\n",
       "4  吳慧娟     15     66     15   96"
      ]
     },
     "execution_count": 269,
     "metadata": {},
     "output_type": "execute_result"
    }
   ],
   "source": [
    "# 增加一個欄位，計算總分\n",
    "\n",
    "df['總分'] = df[df.columns].sum(1) # sum(1) 是指定 row 方向的總和。\n",
    "df.head()"
   ]
  },
  {
   "cell_type": "code",
   "execution_count": 270,
   "metadata": {
    "slideshow": {
     "slide_type": "subslide"
    }
   },
   "outputs": [
    {
     "data": {
      "text/html": [
       "<div>\n",
       "<table border=\"1\" class=\"dataframe\">\n",
       "  <thead>\n",
       "    <tr style=\"text-align: right;\">\n",
       "      <th></th>\n",
       "      <th>name</th>\n",
       "      <th>exam1</th>\n",
       "      <th>exam2</th>\n",
       "      <th>exam3</th>\n",
       "      <th>總分</th>\n",
       "    </tr>\n",
       "  </thead>\n",
       "  <tbody>\n",
       "    <tr>\n",
       "      <th>3</th>\n",
       "      <td>馮筱婷</td>\n",
       "      <td>96</td>\n",
       "      <td>93</td>\n",
       "      <td>87</td>\n",
       "      <td>276</td>\n",
       "    </tr>\n",
       "    <tr>\n",
       "      <th>21</th>\n",
       "      <td>陳雅玲</td>\n",
       "      <td>99</td>\n",
       "      <td>86</td>\n",
       "      <td>84</td>\n",
       "      <td>269</td>\n",
       "    </tr>\n",
       "    <tr>\n",
       "      <th>37</th>\n",
       "      <td>許原伸</td>\n",
       "      <td>81</td>\n",
       "      <td>96</td>\n",
       "      <td>78</td>\n",
       "      <td>255</td>\n",
       "    </tr>\n",
       "    <tr>\n",
       "      <th>0</th>\n",
       "      <td>王之婷</td>\n",
       "      <td>82</td>\n",
       "      <td>59</td>\n",
       "      <td>99</td>\n",
       "      <td>240</td>\n",
       "    </tr>\n",
       "    <tr>\n",
       "      <th>33</th>\n",
       "      <td>祁至蓁</td>\n",
       "      <td>85</td>\n",
       "      <td>55</td>\n",
       "      <td>94</td>\n",
       "      <td>234</td>\n",
       "    </tr>\n",
       "  </tbody>\n",
       "</table>\n",
       "</div>"
      ],
      "text/plain": [
       "   name  exam1  exam2  exam3   總分\n",
       "3   馮筱婷     96     93     87  276\n",
       "21  陳雅玲     99     86     84  269\n",
       "37  許原伸     81     96     78  255\n",
       "0   王之婷     82     59     99  240\n",
       "33  祁至蓁     85     55     94  234"
      ]
     },
     "execution_count": 270,
     "metadata": {},
     "output_type": "execute_result"
    }
   ],
   "source": [
    "# 排個名次來看看吧！\n",
    "\n",
    "# ascending=False 代表由大到小。\n",
    "df.sort_values(by='總分', ascending=False).head()\n"
   ]
  },
  {
   "cell_type": "code",
   "execution_count": 283,
   "metadata": {
    "slideshow": {
     "slide_type": "subslide"
    }
   },
   "outputs": [
    {
     "data": {
      "text/html": [
       "<div>\n",
       "<table border=\"1\" class=\"dataframe\">\n",
       "  <thead>\n",
       "    <tr style=\"text-align: right;\">\n",
       "      <th></th>\n",
       "      <th>name</th>\n",
       "      <th>exam1</th>\n",
       "      <th>exam2</th>\n",
       "      <th>exam3</th>\n",
       "      <th>總分</th>\n",
       "    </tr>\n",
       "  </thead>\n",
       "  <tbody>\n",
       "    <tr>\n",
       "      <th>3</th>\n",
       "      <td>馮筱婷</td>\n",
       "      <td>96</td>\n",
       "      <td>93</td>\n",
       "      <td>87</td>\n",
       "      <td>276</td>\n",
       "    </tr>\n",
       "    <tr>\n",
       "      <th>21</th>\n",
       "      <td>陳雅玲</td>\n",
       "      <td>99</td>\n",
       "      <td>86</td>\n",
       "      <td>84</td>\n",
       "      <td>269</td>\n",
       "    </tr>\n",
       "    <tr>\n",
       "      <th>37</th>\n",
       "      <td>許原伸</td>\n",
       "      <td>81</td>\n",
       "      <td>96</td>\n",
       "      <td>78</td>\n",
       "      <td>255</td>\n",
       "    </tr>\n",
       "    <tr>\n",
       "      <th>0</th>\n",
       "      <td>王之婷</td>\n",
       "      <td>82</td>\n",
       "      <td>59</td>\n",
       "      <td>99</td>\n",
       "      <td>240</td>\n",
       "    </tr>\n",
       "    <tr>\n",
       "      <th>33</th>\n",
       "      <td>祁至蓁</td>\n",
       "      <td>85</td>\n",
       "      <td>55</td>\n",
       "      <td>94</td>\n",
       "      <td>234</td>\n",
       "    </tr>\n",
       "    <tr>\n",
       "      <th>6</th>\n",
       "      <td>陳志任</td>\n",
       "      <td>88</td>\n",
       "      <td>58</td>\n",
       "      <td>77</td>\n",
       "      <td>223</td>\n",
       "    </tr>\n",
       "    <tr>\n",
       "      <th>9</th>\n",
       "      <td>梁政哲</td>\n",
       "      <td>65</td>\n",
       "      <td>72</td>\n",
       "      <td>84</td>\n",
       "      <td>221</td>\n",
       "    </tr>\n",
       "    <tr>\n",
       "      <th>15</th>\n",
       "      <td>劉銘苓</td>\n",
       "      <td>20</td>\n",
       "      <td>97</td>\n",
       "      <td>98</td>\n",
       "      <td>215</td>\n",
       "    </tr>\n",
       "    <tr>\n",
       "      <th>5</th>\n",
       "      <td>林宗凌</td>\n",
       "      <td>65</td>\n",
       "      <td>57</td>\n",
       "      <td>87</td>\n",
       "      <td>209</td>\n",
       "    </tr>\n",
       "    <tr>\n",
       "      <th>29</th>\n",
       "      <td>藍苑寧</td>\n",
       "      <td>81</td>\n",
       "      <td>28</td>\n",
       "      <td>90</td>\n",
       "      <td>199</td>\n",
       "    </tr>\n",
       "    <tr>\n",
       "      <th>48</th>\n",
       "      <td>黎惠雯</td>\n",
       "      <td>93</td>\n",
       "      <td>25</td>\n",
       "      <td>81</td>\n",
       "      <td>199</td>\n",
       "    </tr>\n",
       "    <tr>\n",
       "      <th>46</th>\n",
       "      <td>時明慧</td>\n",
       "      <td>84</td>\n",
       "      <td>74</td>\n",
       "      <td>60</td>\n",
       "      <td>191</td>\n",
       "    </tr>\n",
       "    <tr>\n",
       "      <th>23</th>\n",
       "      <td>張凱揚</td>\n",
       "      <td>93</td>\n",
       "      <td>78</td>\n",
       "      <td>60</td>\n",
       "      <td>186</td>\n",
       "    </tr>\n",
       "    <tr>\n",
       "      <th>47</th>\n",
       "      <td>林淑玲</td>\n",
       "      <td>86</td>\n",
       "      <td>40</td>\n",
       "      <td>60</td>\n",
       "      <td>165</td>\n",
       "    </tr>\n",
       "    <tr>\n",
       "      <th>11</th>\n",
       "      <td>王清福</td>\n",
       "      <td>54</td>\n",
       "      <td>86</td>\n",
       "      <td>60</td>\n",
       "      <td>164</td>\n",
       "    </tr>\n",
       "    <tr>\n",
       "      <th>22</th>\n",
       "      <td>張美君</td>\n",
       "      <td>25</td>\n",
       "      <td>40</td>\n",
       "      <td>98</td>\n",
       "      <td>163</td>\n",
       "    </tr>\n",
       "    <tr>\n",
       "      <th>14</th>\n",
       "      <td>郭育燕</td>\n",
       "      <td>41</td>\n",
       "      <td>59</td>\n",
       "      <td>61</td>\n",
       "      <td>161</td>\n",
       "    </tr>\n",
       "    <tr>\n",
       "      <th>38</th>\n",
       "      <td>王淑敏</td>\n",
       "      <td>90</td>\n",
       "      <td>59</td>\n",
       "      <td>60</td>\n",
       "      <td>153</td>\n",
       "    </tr>\n",
       "    <tr>\n",
       "      <th>35</th>\n",
       "      <td>金淑慧</td>\n",
       "      <td>57</td>\n",
       "      <td>52</td>\n",
       "      <td>60</td>\n",
       "      <td>153</td>\n",
       "    </tr>\n",
       "    <tr>\n",
       "      <th>41</th>\n",
       "      <td>儲嬌歡</td>\n",
       "      <td>40</td>\n",
       "      <td>56</td>\n",
       "      <td>60</td>\n",
       "      <td>150</td>\n",
       "    </tr>\n",
       "    <tr>\n",
       "      <th>25</th>\n",
       "      <td>顏儀男</td>\n",
       "      <td>9</td>\n",
       "      <td>94</td>\n",
       "      <td>60</td>\n",
       "      <td>145</td>\n",
       "    </tr>\n",
       "    <tr>\n",
       "      <th>8</th>\n",
       "      <td>張雅雯</td>\n",
       "      <td>73</td>\n",
       "      <td>21</td>\n",
       "      <td>60</td>\n",
       "      <td>140</td>\n",
       "    </tr>\n",
       "    <tr>\n",
       "      <th>13</th>\n",
       "      <td>陶江紋</td>\n",
       "      <td>61</td>\n",
       "      <td>53</td>\n",
       "      <td>60</td>\n",
       "      <td>132</td>\n",
       "    </tr>\n",
       "    <tr>\n",
       "      <th>44</th>\n",
       "      <td>徐淑恩</td>\n",
       "      <td>53</td>\n",
       "      <td>32</td>\n",
       "      <td>60</td>\n",
       "      <td>132</td>\n",
       "    </tr>\n",
       "    <tr>\n",
       "      <th>34</th>\n",
       "      <td>王惠智</td>\n",
       "      <td>35</td>\n",
       "      <td>2</td>\n",
       "      <td>88</td>\n",
       "      <td>125</td>\n",
       "    </tr>\n",
       "    <tr>\n",
       "      <th>31</th>\n",
       "      <td>馮家欣</td>\n",
       "      <td>29</td>\n",
       "      <td>37</td>\n",
       "      <td>60</td>\n",
       "      <td>124</td>\n",
       "    </tr>\n",
       "    <tr>\n",
       "      <th>16</th>\n",
       "      <td>吳承安</td>\n",
       "      <td>28</td>\n",
       "      <td>40</td>\n",
       "      <td>60</td>\n",
       "      <td>119</td>\n",
       "    </tr>\n",
       "    <tr>\n",
       "      <th>10</th>\n",
       "      <td>陳辰宜</td>\n",
       "      <td>8</td>\n",
       "      <td>44</td>\n",
       "      <td>62</td>\n",
       "      <td>114</td>\n",
       "    </tr>\n",
       "    <tr>\n",
       "      <th>42</th>\n",
       "      <td>蔡怡孜</td>\n",
       "      <td>35</td>\n",
       "      <td>65</td>\n",
       "      <td>60</td>\n",
       "      <td>113</td>\n",
       "    </tr>\n",
       "    <tr>\n",
       "      <th>27</th>\n",
       "      <td>黃亭音</td>\n",
       "      <td>10</td>\n",
       "      <td>91</td>\n",
       "      <td>60</td>\n",
       "      <td>108</td>\n",
       "    </tr>\n",
       "  </tbody>\n",
       "</table>\n",
       "</div>"
      ],
      "text/plain": [
       "   name  exam1  exam2  exam3   總分\n",
       "3   馮筱婷     96     93     87  276\n",
       "21  陳雅玲     99     86     84  269\n",
       "37  許原伸     81     96     78  255\n",
       "0   王之婷     82     59     99  240\n",
       "33  祁至蓁     85     55     94  234\n",
       "6   陳志任     88     58     77  223\n",
       "9   梁政哲     65     72     84  221\n",
       "15  劉銘苓     20     97     98  215\n",
       "5   林宗凌     65     57     87  209\n",
       "29  藍苑寧     81     28     90  199\n",
       "48  黎惠雯     93     25     81  199\n",
       "46  時明慧     84     74     60  191\n",
       "23  張凱揚     93     78     60  186\n",
       "47  林淑玲     86     40     60  165\n",
       "11  王清福     54     86     60  164\n",
       "22  張美君     25     40     98  163\n",
       "14  郭育燕     41     59     61  161\n",
       "38  王淑敏     90     59     60  153\n",
       "35  金淑慧     57     52     60  153\n",
       "41  儲嬌歡     40     56     60  150\n",
       "25  顏儀男      9     94     60  145\n",
       "8   張雅雯     73     21     60  140\n",
       "13  陶江紋     61     53     60  132\n",
       "44  徐淑恩     53     32     60  132\n",
       "34  王惠智     35      2     88  125\n",
       "31  馮家欣     29     37     60  124\n",
       "16  吳承安     28     40     60  119\n",
       "10  陳辰宜      8     44     62  114\n",
       "42  蔡怡孜     35     65     60  113\n",
       "27  黃亭音     10     91     60  108"
      ]
     },
     "execution_count": 283,
     "metadata": {},
     "output_type": "execute_result"
    }
   ],
   "source": [
    "# 優先權排序\n",
    "# 總分相同的，依 exam3 排序\n",
    "df.sort_values(by=['總分', 'exam2'], ascending=False).head(30)\n"
   ]
  },
  {
   "cell_type": "code",
   "execution_count": 285,
   "metadata": {
    "slideshow": {
     "slide_type": "subslide"
    }
   },
   "outputs": [
    {
     "data": {
      "text/html": [
       "<div>\n",
       "<table border=\"1\" class=\"dataframe\">\n",
       "  <thead>\n",
       "    <tr style=\"text-align: right;\">\n",
       "      <th></th>\n",
       "      <th>name</th>\n",
       "      <th>exam1</th>\n",
       "      <th>exam2</th>\n",
       "      <th>exam3</th>\n",
       "      <th>總分</th>\n",
       "    </tr>\n",
       "  </thead>\n",
       "  <tbody>\n",
       "    <tr>\n",
       "      <th>3</th>\n",
       "      <td>馮筱婷</td>\n",
       "      <td>96</td>\n",
       "      <td>93</td>\n",
       "      <td>87</td>\n",
       "      <td>276</td>\n",
       "    </tr>\n",
       "    <tr>\n",
       "      <th>4</th>\n",
       "      <td>吳慧娟</td>\n",
       "      <td>15</td>\n",
       "      <td>66</td>\n",
       "      <td>60</td>\n",
       "      <td>96</td>\n",
       "    </tr>\n",
       "    <tr>\n",
       "      <th>9</th>\n",
       "      <td>梁政哲</td>\n",
       "      <td>65</td>\n",
       "      <td>72</td>\n",
       "      <td>84</td>\n",
       "      <td>221</td>\n",
       "    </tr>\n",
       "    <tr>\n",
       "      <th>11</th>\n",
       "      <td>王清福</td>\n",
       "      <td>54</td>\n",
       "      <td>86</td>\n",
       "      <td>60</td>\n",
       "      <td>164</td>\n",
       "    </tr>\n",
       "    <tr>\n",
       "      <th>12</th>\n",
       "      <td>彭菁治</td>\n",
       "      <td>17</td>\n",
       "      <td>73</td>\n",
       "      <td>60</td>\n",
       "      <td>100</td>\n",
       "    </tr>\n",
       "    <tr>\n",
       "      <th>15</th>\n",
       "      <td>劉銘苓</td>\n",
       "      <td>20</td>\n",
       "      <td>97</td>\n",
       "      <td>98</td>\n",
       "      <td>215</td>\n",
       "    </tr>\n",
       "    <tr>\n",
       "      <th>21</th>\n",
       "      <td>陳雅玲</td>\n",
       "      <td>99</td>\n",
       "      <td>86</td>\n",
       "      <td>84</td>\n",
       "      <td>269</td>\n",
       "    </tr>\n",
       "    <tr>\n",
       "      <th>23</th>\n",
       "      <td>張凱揚</td>\n",
       "      <td>93</td>\n",
       "      <td>78</td>\n",
       "      <td>60</td>\n",
       "      <td>186</td>\n",
       "    </tr>\n",
       "    <tr>\n",
       "      <th>25</th>\n",
       "      <td>顏儀男</td>\n",
       "      <td>9</td>\n",
       "      <td>94</td>\n",
       "      <td>60</td>\n",
       "      <td>145</td>\n",
       "    </tr>\n",
       "    <tr>\n",
       "      <th>27</th>\n",
       "      <td>黃亭音</td>\n",
       "      <td>10</td>\n",
       "      <td>91</td>\n",
       "      <td>60</td>\n",
       "      <td>108</td>\n",
       "    </tr>\n",
       "    <tr>\n",
       "      <th>37</th>\n",
       "      <td>許原伸</td>\n",
       "      <td>81</td>\n",
       "      <td>96</td>\n",
       "      <td>78</td>\n",
       "      <td>255</td>\n",
       "    </tr>\n",
       "    <tr>\n",
       "      <th>42</th>\n",
       "      <td>蔡怡孜</td>\n",
       "      <td>35</td>\n",
       "      <td>65</td>\n",
       "      <td>60</td>\n",
       "      <td>113</td>\n",
       "    </tr>\n",
       "    <tr>\n",
       "      <th>46</th>\n",
       "      <td>時明慧</td>\n",
       "      <td>84</td>\n",
       "      <td>74</td>\n",
       "      <td>60</td>\n",
       "      <td>191</td>\n",
       "    </tr>\n",
       "  </tbody>\n",
       "</table>\n",
       "</div>"
      ],
      "text/plain": [
       "   name  exam1  exam2  exam3   總分\n",
       "3   馮筱婷     96     93     87  276\n",
       "4   吳慧娟     15     66     60   96\n",
       "9   梁政哲     65     72     84  221\n",
       "11  王清福     54     86     60  164\n",
       "12  彭菁治     17     73     60  100\n",
       "15  劉銘苓     20     97     98  215\n",
       "21  陳雅玲     99     86     84  269\n",
       "23  張凱揚     93     78     60  186\n",
       "25  顏儀男      9     94     60  145\n",
       "27  黃亭音     10     91     60  108\n",
       "37  許原伸     81     96     78  255\n",
       "42  蔡怡孜     35     65     60  113\n",
       "46  時明慧     84     74     60  191"
      ]
     },
     "execution_count": 285,
     "metadata": {},
     "output_type": "execute_result"
    }
   ],
   "source": [
    "## 找到 exam2 及格的人。會不會太方便了！？\n",
    "df[df.exam2>=60]\n"
   ]
  },
  {
   "cell_type": "code",
   "execution_count": 286,
   "metadata": {},
   "outputs": [
    {
     "data": {
      "text/html": [
       "<div>\n",
       "<table border=\"1\" class=\"dataframe\">\n",
       "  <thead>\n",
       "    <tr style=\"text-align: right;\">\n",
       "      <th></th>\n",
       "      <th>name</th>\n",
       "      <th>exam1</th>\n",
       "      <th>exam2</th>\n",
       "      <th>exam3</th>\n",
       "      <th>總分</th>\n",
       "    </tr>\n",
       "  </thead>\n",
       "  <tbody>\n",
       "    <tr>\n",
       "      <th>0</th>\n",
       "      <td>王之婷</td>\n",
       "      <td>82</td>\n",
       "      <td>59</td>\n",
       "      <td>99</td>\n",
       "      <td>240</td>\n",
       "    </tr>\n",
       "    <tr>\n",
       "      <th>1</th>\n",
       "      <td>黃文賢</td>\n",
       "      <td>35</td>\n",
       "      <td>18</td>\n",
       "      <td>60</td>\n",
       "      <td>74</td>\n",
       "    </tr>\n",
       "    <tr>\n",
       "      <th>2</th>\n",
       "      <td>林俊穎</td>\n",
       "      <td>7</td>\n",
       "      <td>23</td>\n",
       "      <td>74</td>\n",
       "      <td>104</td>\n",
       "    </tr>\n",
       "    <tr>\n",
       "      <th>3</th>\n",
       "      <td>馮筱婷</td>\n",
       "      <td>96</td>\n",
       "      <td>93</td>\n",
       "      <td>87</td>\n",
       "      <td>276</td>\n",
       "    </tr>\n",
       "    <tr>\n",
       "      <th>4</th>\n",
       "      <td>吳慧娟</td>\n",
       "      <td>15</td>\n",
       "      <td>66</td>\n",
       "      <td>60</td>\n",
       "      <td>96</td>\n",
       "    </tr>\n",
       "  </tbody>\n",
       "</table>\n",
       "</div>"
      ],
      "text/plain": [
       "  name  exam1  exam2  exam3   總分\n",
       "0  王之婷     82     59     99  240\n",
       "1  黃文賢     35     18     60   74\n",
       "2  林俊穎      7     23     74  104\n",
       "3  馮筱婷     96     93     87  276\n",
       "4  吳慧娟     15     66     60   96"
      ]
     },
     "execution_count": 286,
     "metadata": {},
     "output_type": "execute_result"
    }
   ],
   "source": [
    "# 佛心來的，把不及格的全部改成 60 分吧！\n",
    "\n",
    "df.loc[df.exam3<60, 'exam3'] = 60\n",
    "df.head()"
   ]
  },
  {
   "cell_type": "markdown",
   "metadata": {
    "slideshow": {
     "slide_type": "slide"
    }
   },
   "source": [
    "## 來玩玩圖表吧！\n",
    "\n",
    "直方圖（Histogram）  \n",
    "散佈圖（Scatter plot）  \n",
    "線圖（Line plot）  \n",
    "長條圖（Bar plot）  \n",
    "盒鬚圖（Box plot）  \n"
   ]
  },
  {
   "cell_type": "code",
   "execution_count": 274,
   "metadata": {
    "slideshow": {
     "slide_type": "subslide"
    }
   },
   "outputs": [
    {
     "data": {
      "text/plain": [
       "<matplotlib.axes._subplots.AxesSubplot at 0x11b086f98>"
      ]
     },
     "execution_count": 274,
     "metadata": {},
     "output_type": "execute_result"
    },
    {
     "data": {
      "image/png": "[encoded data removed]",
      "text/plain": [
       "<matplotlib.figure.Figure at 0x11b9f0e80>"
      ]
     },
     "metadata": {},
     "output_type": "display_data"
    }
   ],
   "source": [
    "# 看看圖表吧！\n",
    "\n",
    "df.exam1.plot()\n"
   ]
  },
  {
   "cell_type": "code",
   "execution_count": 278,
   "metadata": {
    "slideshow": {
     "slide_type": "subslide"
    }
   },
   "outputs": [
    {
     "data": {
      "text/plain": [
       "['hist.png', 'substring.png']"
      ]
     },
     "execution_count": 278,
     "metadata": {},
     "output_type": "execute_result"
    },
    {
     "data": {
      "image/png": "[encoded data removed]",
      "text/plain": [
       "<matplotlib.figure.Figure at 0x11b8a67f0>"
      ]
     },
     "metadata": {},
     "output_type": "display_data"
    }
   ],
   "source": [
    "df.exam1.hist()\n",
    "basepath = 'images/'\n",
    "\n",
    "# 做出圖之後順便存個檔，以便未來使用。\n",
    "plt.savefig(filename = basepath+\"hist.png\", format = \"png\")\n",
    "os.listdir(basepath)"
   ]
  },
  {
   "cell_type": "code",
   "execution_count": 276,
   "metadata": {},
   "outputs": [
    {
     "data": {
      "image/png": "[encoded data removed]",
      "text/plain": [
       "<matplotlib.figure.Figure at 0x11b98f240>"
      ]
     },
     "metadata": {},
     "output_type": "display_data"
    }
   ],
   "source": [
    "# 散佈圖（Scatter plot）\n",
    "\n",
    "plt.scatter(df.index , df.exam3)\n",
    "plt.show()"
   ]
  },
  {
   "cell_type": "markdown",
   "metadata": {
    "collapsed": true,
    "slideshow": {
     "slide_type": "slide"
    }
   },
   "source": [
    "# 線性回歸"
   ]
  },
  {
   "cell_type": "code",
   "execution_count": 299,
   "metadata": {},
   "outputs": [
    {
     "data": {
      "text/plain": [
       "LinearRegression(copy_X=True, fit_intercept=True, n_jobs=1, normalize=False)"
      ]
     },
     "execution_count": 299,
     "metadata": {},
     "output_type": "execute_result"
    }
   ],
   "source": [
    "from sklearn.linear_model import LinearRegression\n",
    "\n",
    "lr = LinearRegression() # 開一個回歸機\n",
    "\n",
    "Exam2 = df.exam2.reshape(50, 1)\n",
    "\n",
    "lr.fit(Exam2, df.exam1)"
   ]
  },
  {
   "cell_type": "code",
   "execution_count": 301,
   "metadata": {},
   "outputs": [
    {
     "data": {
      "text/plain": [
       "[<matplotlib.lines.Line2D at 0x11da09390>]"
      ]
     },
     "execution_count": 301,
     "metadata": {},
     "output_type": "execute_result"
    },
    {
     "data": {
      "image/png": "[encoded data removed]",
      "text/plain": [
       "<matplotlib.figure.Figure at 0x11da09c18>"
      ]
     },
     "metadata": {},
     "output_type": "display_data"
    }
   ],
   "source": [
    "Y = lr.predict(Exam2)\n",
    "plt.scatter(df.exam1, Exam2)\n",
    "plt.plot(df.exam2, Y, 'r')"
   ]
  },
  {
   "cell_type": "code",
   "execution_count": null,
   "metadata": {
    "collapsed": true
   },
   "outputs": [],
   "source": []
  }
 ],
 "metadata": {
  "celltoolbar": "Slideshow",
  "kernelspec": {
   "display_name": "Python 3",
   "language": "python",
   "name": "python3"
  },
  "language_info": {
   "codemirror_mode": {
    "name": "ipython",
    "version": 3
   },
   "file_extension": ".py",
   "mimetype": "text/x-python",
   "name": "python",
   "nbconvert_exporter": "python",
   "pygments_lexer": "ipython3",
   "version": "3.6.4"
  }
 },
 "nbformat": 4,
 "nbformat_minor": 1
}
