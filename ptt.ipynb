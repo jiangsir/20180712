{
 "cells": [
  {
   "cell_type": "code",
   "execution_count": 4,
   "metadata": {},
   "outputs": [
    {
     "name": "stdout",
     "output_type": "stream",
     "text": [
      "[食記] 台北小巨蛋。Remember Me 記得我Café\n",
      "[食記] 台北 天母香港阿德燒臘快餐\n",
      "[食記] 新加坡 發傳人肉骨茶 濃厚胡椒湯\n",
      "Fw: [食記] 苗栗 彭老師鹽鹵豆腐/豆花 ～簡單就美味\n",
      "[食記] 熊本 桂花拉麵 本店 超過60年的在地拉麵\n",
      "[食記] 台北 TIGERROAR 韓虎嘯 | 台北車站微風\n",
      "[食記] 新北 LENTO BRUNCH 單點50起平日不限時\n",
      "[食記] 西門町：維記茶餐廳  乾隆蜜汁花雕雞大推\n",
      "[食記] 台北 手沖咖啡丸花豆倉-恬靜巷弄咖啡廳\n",
      "[食記] 日本東京 たいこ茶屋，鮮美生魚片吃到飽\n",
      "[食記] 台北 WILDWOOD開幕！(大推)\n",
      "[食記] 台北 どん亭 Don tei壽喜燒火鍋吃到飽\n",
      "[食記] 桃園八德區。大廟邊阿嬤麵店\n",
      "[公告] Food板 板規 V3.91\n",
      "[公告] 發文請在標題加上地區及提供地址電話。^^\n",
      "[公告] 文章被刪除者請洽精華區的資源回收桶\n",
      "[公告] 新增板規22：發文禁附延伸閱讀連結\n"
     ]
    }
   ],
   "source": [
    "import requests\n",
    "from bs4 import BeautifulSoup\n",
    "res = requests.get('https://www.ptt.cc/bbs/Food/')\n",
    "soup = BeautifulSoup(res.text,'lxml')\n",
    "for item in soup.select(\".r-ent\"):\n",
    "    print(item.select(\".title\")[0].text.strip())"
   ]
  }
 ],
 "metadata": {
  "kernelspec": {
   "display_name": "Python 3",
   "language": "python",
   "name": "python3"
  },
  "language_info": {
   "codemirror_mode": {
    "name": "ipython",
    "version": 3
   },
   "file_extension": ".py",
   "mimetype": "text/x-python",
   "name": "python",
   "nbconvert_exporter": "python",
   "pygments_lexer": "ipython3",
   "version": "3.6.4"
  }
 },
 "nbformat": 4,
 "nbformat_minor": 2
}
