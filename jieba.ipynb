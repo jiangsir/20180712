{
 "cells": [
  {
   "cell_type": "markdown",
   "metadata": {},
   "source": [
    "## 官方網站\n",
    "\n",
    "https://github.com/fxsjy/jieba"
   ]
  },
  {
   "cell_type": "code",
   "execution_count": 2,
   "metadata": {},
   "outputs": [
    {
     "name": "stderr",
     "output_type": "stream",
     "text": [
      "Building prefix dict from /Users/jiangsir/Documents/20171128_fgtp/jiebaDict_dict.big.txt ...\n"
     ]
    },
    {
     "name": "stdout",
     "output_type": "stream",
     "text": [
      "Input=身為最多奧運金牌的紀錄保持人，美國泳將菲爾普斯在成功背後，也有著跌宕起伏的心路歷程，曾經因吸食大麻與酒駕深陷人生低潮的他，甚至動過輕生念頭。直到去年在家人與信仰的陪伴下，他重拾信心，成功再造飛魚傳奇。菲爾普斯(15歲)：「(針對游泳或人生，你有什麼期許？)嗯，就只是想游得更快一些。」15歲受訪時一句「我想游更快」，菲爾普斯做到了。他在四次奧運會中一共拿下23面金牌，傲人成績前無古人，後無來者，成為泳壇傳奇。但成功背後，菲爾普斯也有著心酸的故事。奧運游泳金牌保持人菲爾普斯：「是的，我想說，我確實犯了些錯誤，這也是學習和成長的一部份，讓一個人變得更成熟。」\n"
     ]
    },
    {
     "name": "stderr",
     "output_type": "stream",
     "text": [
      "Dumping model to file cache /var/folders/38/nwfb18m540j8v7ncd4lfmbjr0000gn/T/jieba.u5970ee69d54463ad8860cd8eaff005b6.cache\n",
      "Loading model cost 5.339 seconds.\n",
      "Prefix dict has been built succesfully.\n"
     ]
    },
    {
     "name": "stdout",
     "output_type": "stream",
     "text": [
      "身為 | 最多 | 奧運金牌 | 的 | 紀錄 | 保持 | 人 | ， | 美國 | 泳將 | 菲爾 | 普斯 | 在 | 成功 | 背後 | ， | 也 | 有 | 著 | 跌宕起伏 | 的 | 心路歷程 | ， | 曾經 | 因 | 吸食 | 大麻 | 與 | 酒 | 駕 | 深陷 | 人生 | 低潮 | 的 | 他 | ， | 甚至 | 動過 | 輕生 | 念頭 | 。 | 直到 | 去年 | 在 | 家人 | 與 | 信仰 | 的 | 陪伴 | 下 | ， | 他 | 重拾 | 信心 | ， | 成功 | 再造 | 飛魚 | 傳奇 | 。 | 菲爾 | 普斯 | ( | 15 | 歲 | ) | ： | 「 | ( | 針對 | 游泳 | 或 | 人生 | ， | 你 | 有 | 什麼 | 期許 | ？ | ) | 嗯 | ， | 就 | 只是 | 想游 | 得 | 更 | 快 | 一些 | 。 | 」 | 15 | 歲 | 受訪 | 時 | 一句 | 「 | 我想游 | 更 | 快 | 」 | ， | 菲爾 | 普斯 | 做到 | 了 | 。 | 他 | 在 | 四次 | 奧運會 | 中 | 一共 | 拿下 | 23 | 面 | 金牌 | ， | 傲人 | 成績 | 前無古人 | ， | 後無來者 | ， | 成為 | 泳壇 | 傳奇 | 。 | 但 | 成功 | 背後 | ， | 菲爾 | 普斯 | 也 | 有 | 著 | 心酸 | 的 | 故事 | 。 | 奧運 | 游泳 | 金牌 | 保持 | 人 | 菲爾 | 普斯 | ： | 「 | 是 | 的 | ， | 我 | 想 | 說 | ， | 我 | 確實 | 犯 | 了 | 些 | 錯誤 | ， | 這也 | 是 | 學習 | 和 | 成長 | 的 | 一部 | 份 | ， | 讓 | 一個 | 人 | 變得 | 更 | 成熟 | 。 | 」\n"
     ]
    }
   ],
   "source": [
    "import jieba\n",
    "jieba.set_dictionary('jiebaDict_dict.big.txt')\n",
    "\n",
    "string = \"\"\n",
    "with open('jieba_article.txt', 'rt') as f:\n",
    "    string = f.read()\n",
    "\n",
    "print(\"Input=\" + string)\n",
    "words = jieba.cut(string, cut_all=False)\n",
    "print(' | '.join(words))\n",
    "for word in words:\n",
    "    print(\" | \"+word, end=\"\")\n",
    "    "
   ]
  },
  {
   "cell_type": "code",
   "execution_count": 5,
   "metadata": {},
   "outputs": [
    {
     "name": "stderr",
     "output_type": "stream",
     "text": [
      "Building prefix dict from /Users/jiangsir/Documents/20171128_fgtp/jiebaDict_dict.big.txt ...\n",
      "Loading model from cache /var/folders/38/nwfb18m540j8v7ncd4lfmbjr0000gn/T/jieba.u5970ee69d54463ad8860cd8eaff005b6.cache\n",
      "Loading model cost 3.129 seconds.\n",
      "Prefix dict has been built succesfully.\n"
     ]
    },
    {
     "name": "stdout",
     "output_type": "stream",
     "text": [
      "('，', 17)\n",
      "('。', 7)\n",
      "('的', 7)\n",
      "('菲爾', 5)\n",
      "('普斯', 5)\n",
      "('」', 3)\n",
      "('在', 3)\n",
      "('成功', 3)\n",
      "('他', 3)\n",
      "('有', 3)\n",
      "('人', 3)\n",
      "('更', 3)\n",
      "('「', 3)\n",
      "('背後', 2)\n",
      "('了', 2)\n",
      "('也', 2)\n",
      "('保持', 2)\n",
      "(')', 2)\n",
      "('我', 2)\n",
      "('與', 2)\n",
      "('歲', 2)\n",
      "('15', 2)\n",
      "('人生', 2)\n",
      "('著', 2)\n",
      "('：', 2)\n",
      "('快', 2)\n",
      "('(', 2)\n",
      "('金牌', 2)\n",
      "('傳奇', 2)\n",
      "('是', 2)\n",
      "('游泳', 2)\n",
      "('什麼', 1)\n",
      "('變得', 1)\n",
      "('深陷', 1)\n",
      "('家人', 1)\n",
      "('些', 1)\n",
      "('受訪', 1)\n",
      "('一共', 1)\n",
      "('想游', 1)\n",
      "('駕', 1)\n",
      "('下', 1)\n",
      "('但', 1)\n",
      "('這也', 1)\n",
      "('學習', 1)\n",
      "('只是', 1)\n",
      "('念頭', 1)\n",
      "('錯誤', 1)\n",
      "('紀錄', 1)\n",
      "('一些', 1)\n",
      "('去年', 1)\n",
      "('？', 1)\n",
      "('成熟', 1)\n",
      "('成長', 1)\n",
      "('奧運', 1)\n",
      "('因', 1)\n",
      "('成為', 1)\n",
      "('拿下', 1)\n",
      "('心路歷程', 1)\n",
      "('確實', 1)\n",
      "('份', 1)\n",
      "('美國', 1)\n",
      "('23', 1)\n",
      "('輕生', 1)\n",
      "('一句', 1)\n",
      "('信仰', 1)\n",
      "('飛魚', 1)\n",
      "('犯', 1)\n",
      "('就', 1)\n",
      "('說', 1)\n",
      "('奧運會', 1)\n",
      "('後無來者', 1)\n",
      "('吸食', 1)\n",
      "('期許', 1)\n",
      "('酒', 1)\n",
      "('做到', 1)\n",
      "('跌宕起伏', 1)\n",
      "('四次', 1)\n",
      "('得', 1)\n",
      "('奧運金牌', 1)\n",
      "('低潮', 1)\n",
      "('你', 1)\n",
      "('陪伴', 1)\n",
      "('中', 1)\n",
      "('動過', 1)\n",
      "('我想游', 1)\n",
      "('故事', 1)\n",
      "('成績', 1)\n",
      "('一部', 1)\n",
      "('曾經', 1)\n",
      "('傲人', 1)\n",
      "('泳壇', 1)\n",
      "('信心', 1)\n",
      "('身為', 1)\n",
      "('一個', 1)\n",
      "('想', 1)\n",
      "('或', 1)\n",
      "('和', 1)\n",
      "('面', 1)\n",
      "('前無古人', 1)\n",
      "('讓', 1)\n",
      "('再造', 1)\n",
      "('心酸', 1)\n",
      "('時', 1)\n",
      "('嗯', 1)\n",
      "('重拾', 1)\n",
      "('針對', 1)\n",
      "('直到', 1)\n",
      "('甚至', 1)\n",
      "('泳將', 1)\n",
      "('大麻', 1)\n",
      "('最多', 1)\n"
     ]
    }
   ],
   "source": [
    "import jieba\n",
    "import json\n",
    "jieba.set_dictionary('jiebaDict_dict.big.txt')\n",
    "#print(\"Input=\" + string)\n",
    "string = \"\"\n",
    "with open('jieba_article.txt', 'rt') as f:\n",
    "    string = f.read()\n",
    "\n",
    "\n",
    "words = jieba.cut(string, cut_all=False)\n",
    "hash = {}\n",
    "for item in words:\n",
    "    if item in hash:\n",
    "        hash[item] +=1\n",
    "    else:\n",
    "        hash[item] = 1    \n",
    "#fd = open(\"count.csv\", \"w\")\n",
    "#fd.write(\"word, count\\n\")\n",
    "list = sorted(hash.items(), key=lambda d:d[1], reverse=True)\n",
    "for l in list:\n",
    "    print(l)\n"
   ]
  }
 ],
 "metadata": {
  "kernelspec": {
   "display_name": "Python 3",
   "language": "python",
   "name": "python3"
  },
  "language_info": {
   "codemirror_mode": {
    "name": "ipython",
    "version": 3
   },
   "file_extension": ".py",
   "mimetype": "text/x-python",
   "name": "python",
   "nbconvert_exporter": "python",
   "pygments_lexer": "ipython3",
   "version": "3.6.4"
  }
 },
 "nbformat": 4,
 "nbformat_minor": 1
}
